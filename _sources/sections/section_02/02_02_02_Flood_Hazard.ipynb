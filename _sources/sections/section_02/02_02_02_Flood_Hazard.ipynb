{
 "cells": [
  {
   "cell_type": "markdown",
   "metadata": {
    "id": "Mnt07MvxnkSf"
   },
   "source": [
    "# Binomial distribution\n",
    "\n",
    "<p><img src=\"https://raw.githubusercontent.com/mike-mendoza/-PSAM1_test/main/images/binomial_dist.PNG\" alt=\"\" style=\"display: block; margin-left: auto; margin-right: auto;\" width=\"400\" height=\"230\" /></p>\n",
    "\n",
    "Welcome to the Binomial distribution module. At the end of this module, you will be able to identify distribution parameters and evaluate discrete probabilities for events using the Binomial distribution. Manipulate the distribution parameters to evaluate conditions relevant to Civil Engineering and Geosciences (CEG) applications\n",
    "\n",
    "This module is set up with a 3-unit format:\n",
    "\n",
    "1. The basic theory of a specific concept.\n",
    "2. Example of how a specific concept is applied to a CEG problem, through step-by-step explanations and short python code blocks.\n",
    "3. Introduction of a new problem, to practice using the method from unit 2.\n",
    "\n",
    "---\n",
    "\n",
    "## 1. Theory\n",
    "\n",
    "The binomial distribution is used when there are two outcomes of a trial (success and failure). It is used to obtain the probability of observing x successes in N trials, with the probability of success on a single trial denoted by p. The binomial distribution assumes that p is fixed for all trials. In other words, it is useful for computing the probability of meeting a particular threshold given a specific error rate, and thus has applications to risk management. For this reason, the binomial distribution is also important in determining statistical significance.\n",
    "\n",
    "It describes (pre-requisites):\n",
    "\n",
    "   * Two outcomes per trial\n",
    "   * The probability of success (p) is the same across all trials\n",
    "   * The number of trials (n) is fixed\n",
    "   * Each trial is independent\n",
    "\n",
    "The probability mass function of Binomial distribution for $x=0,1,...,n$ is:\n",
    "\n",
    "$p_{X}(x)=P(X=x)=\\binom{n}{x}p^x(1-p)^{n-x}$\n",
    "\n",
    "\n",
    "---\n",
    "\n",
    "## 2. Flood hazard assessment\n",
    "\n",
    "\n",
    "<center><img title=\"a title\" alt=\"Culvert figure\" src=\"https://raw.githubusercontent.com/mike-mendoza/-PSAM1_test/main/images/Culvert.jpg\" width=\"300\" \n",
    "     height=\"200\" /></center>\n",
    "\n",
    "Suppose that the annual maximum flood level in a drain channel has a probability of 0.02 of exceeding the design level of a culvert.\n",
    "\n",
    "1.\tWhat is the probability that the design level of the culvert will be exceeded once in 50 years?\n",
    "2.\tWhat is the probability that it will be exceeded twice in 50 years?\n",
    "3.\tWhat is the probability that it will be exceeded in 50 years?\n",
    "4.\tWhat is the probability that it will be exceeded two or more times in 50 years?\n",
    "\n"
   ]
  },
  {
   "cell_type": "markdown",
   "metadata": {
    "id": "pkajvOlkQi2B"
   },
   "source": [
    "**1. What is the probability that the design level of the culvert will be exceeded once in 50 years?**\n",
    "\n",
    "The most important part of this question is to realize that the answer is NOT 0.02! This may seem obvious right now, but it is a common mistake, since it is easy to associate the 50-year return period (that is, 1 / 0.02 = 50) to mean that the flood happens once in 50 years. Actually, the probability of exceeding the annual maximum flood level in one year is defined as 0.02, which is one of the parameters to use in our Binomial distribution, $p =  0.02$.\n",
    "\n",
    "\n",
    "We're asked to solve for once in 50 years. Therefore,  $x = 1$ and $n = 50$\n",
    "\n",
    "\n",
    "$ P(X=x) = \\binom{50}{1}0.02^{1}(1-0.02)^{50-1}=0.372 $\n",
    "\n",
    "\n",
    "Hence,  the probability that the design level of the culvert will be exceeded once in 50 years is 37.2%\n",
    "\n",
    "\n",
    "To answer this question we can use the following Python script:"
   ]
  },
  {
   "cell_type": "code",
   "execution_count": 2,
   "metadata": {
    "colab": {
     "base_uri": "https://localhost:8080/"
    },
    "id": "xUWOFdTUxQI1",
    "outputId": "9466069b-d9f5-4587-e763-f818aeb623c1"
   },
   "outputs": [
    {
     "name": "stdout",
     "output_type": "stream",
     "text": [
      "The probability is 0.372\n"
     ]
    }
   ],
   "source": [
    "from scipy.special import comb #import scipy.special library to use the combination function\n",
    "p = 0.02\n",
    "n = 50\n",
    "x = 1\n",
    "probability  = comb(n,x)*(p**x)*(1-p)**(n-x)\n",
    "\n",
    "#display the result rounded to three decimal places\n",
    "print(f'The probability is {probability:.3f}') "
   ]
  },
  {
   "cell_type": "markdown",
   "metadata": {
    "id": "aajlq9_3Rdqn"
   },
   "source": [
    "**2. What is the probability that it will be exceeded twice in 50 years?**\n",
    "Similarly that question 1. We're asked to solve for twice in 50 years. Therefore,  $x = 2$ and $n = 50$ and $p = 0.02$\n",
    "\n",
    "\n",
    "$P(X=x) = \\binom{50}{2}0.02^{2}(1-0.02)^{50-2}=0.186 $\n",
    "\n",
    "\n",
    "Hence,  the probability that the design level of the culvert will be exceeded twice in 50 years is 18.6%\n",
    "\n",
    "\n",
    "To answer this question we can use the following Python script:"
   ]
  },
  {
   "cell_type": "code",
   "execution_count": 3,
   "metadata": {
    "colab": {
     "base_uri": "https://localhost:8080/"
    },
    "id": "NY-I87ShLNPZ",
    "outputId": "f12ccef1-872a-4913-c475-6ae48691716f"
   },
   "outputs": [
    {
     "name": "stdout",
     "output_type": "stream",
     "text": [
      "The probability is 0.186\n"
     ]
    }
   ],
   "source": [
    "from scipy.special import comb #import scipy.special library to use the combination function\n",
    "p = 0.02\n",
    "n = 50\n",
    "x = 2\n",
    "probability  = comb(n,x)*(p**x)*(1-p)**(n-x)\n",
    "\n",
    "#display the result rounded to three decimal places\n",
    "print(f'The probability is {probability:.3f}') "
   ]
  },
  {
   "cell_type": "markdown",
   "metadata": {
    "id": "h9A9vighRgyr"
   },
   "source": [
    "**3.  What is the probability that it will be exceeded in 50 years?**\n",
    "\n",
    "Can you tell how this question is different from the first one? It's subtle, and has to do with the value of $x$. In this problem we are interested in one or more floods in 50 years, whereas in the first question we want to consider exactly one flood. So, $x\\geq 1$ versus $x=1$. We can find this by summing up all possible values of $x$, but this is tedious, so we use the complement, $x=0$, which is much more simple, as shown below!\n",
    "\n",
    "The probability that the culvert capacity will be exceeded is the same as 1 minus  the probability that it will not be exceeded. Hence, $x = 0$, $n = 50$ and $p = 0.02$.\n",
    "\n",
    "\n",
    "$ P(X=x) = 1-\\binom{50}{0}0.02^{0}(1-0.02)^{50-0}=0.636 $\n",
    "\n",
    "Hence,  the probability that the design level of the culvert will be exceeded  in 50 years is 63.6%\n",
    "\n",
    "\n",
    "To answer this question we can use the following Python script:"
   ]
  },
  {
   "cell_type": "code",
   "execution_count": 4,
   "metadata": {
    "colab": {
     "base_uri": "https://localhost:8080/"
    },
    "id": "u1yFvXzQMQoD",
    "outputId": "d97f2a00-8808-44a5-f167-7f74f481eb17"
   },
   "outputs": [
    {
     "name": "stdout",
     "output_type": "stream",
     "text": [
      "The probability is 0.636\n"
     ]
    }
   ],
   "source": [
    "from scipy.special import comb #import scipy.special library to use the combination function\n",
    "p = 0.02\n",
    "n = 50\n",
    "x = 0\n",
    "probability  = 1 - comb(n,x)*(p**x)*(1-p)**(n-x)\n",
    "\n",
    "#display the result rounded to three decimal places\n",
    "print(f'The probability is {probability:.3f}') "
   ]
  },
  {
   "cell_type": "markdown",
   "metadata": {
    "id": "EVXfxplpRmbt"
   },
   "source": [
    "**4. What is the probability that it will be exceeded two or more times in 50 years?**\n",
    "\n",
    "The probability that design level will be exceeded two or more times  $x \\leq 2 $ in 50 years is the same as 1 minus the probability that design level be exceeded 0 or 1 times in 50 years. Hence $x_1 = 0$, $x_2 = 1$, $n = 50$  and $p = 0.02$\n",
    "\n",
    "\n",
    "$ P(X=x) = 1-\\left [ \\binom{50}{0}0.02^{0}(1-0.02)^{50-0}+\\binom{50}{1}0.02^{1}(1-0.02)^{50-1}\\right ]=0.264 $\n",
    "\n",
    "Hence,  the probability that the design level of the culvert will be exceeded  two or more times in 50 years is 26.4%\n",
    "\n",
    "\n",
    "To answer this question we can use the following Python script:"
   ]
  },
  {
   "cell_type": "code",
   "execution_count": 5,
   "metadata": {
    "colab": {
     "base_uri": "https://localhost:8080/"
    },
    "id": "EyvqZQGW-HUx",
    "outputId": "c1631bb2-d8e7-441f-9f79-a30084ed165f"
   },
   "outputs": [
    {
     "name": "stdout",
     "output_type": "stream",
     "text": [
      "The probability is 0.264\n"
     ]
    }
   ],
   "source": [
    "from scipy.special import comb #import scipy.special library to use the combination function\n",
    "p = 0.02\n",
    "n = 50\n",
    "x1 = 0 \n",
    "x2 = 1 \n",
    "probability = 1 - ( comb(n,x1)*(p**x1)*(1-p)**(n-x1) \n",
    "            + comb(n,x2)*(p**x2)*(1-p)**(n-x2) )\n",
    "\n",
    "#display the result rounded to three decimal places\n",
    "print(f'The probability is {probability:.3f}') "
   ]
  }
 ],
 "metadata": {
  "colab": {
   "name": "BIN_GEO_POIS",
   "provenance": []
  },
  "hide_input": false,
  "interpreter": {
   "hash": "ad2bdc8ecc057115af97d19610ffacc2b4e99fae6737bb82f5d7fb13d2f2c186"
  },
  "kernelspec": {
   "display_name": "Python 3",
   "language": "python",
   "name": "python3"
  },
  "language_info": {
   "codemirror_mode": {
    "name": "ipython",
    "version": 3
   },
   "file_extension": ".py",
   "mimetype": "text/x-python",
   "name": "python",
   "nbconvert_exporter": "python",
   "pygments_lexer": "ipython3",
   "version": "3.8.13"
  },
  "varInspector": {
   "cols": {
    "lenName": 16,
    "lenType": 16,
    "lenVar": 40
   },
   "kernels_config": {
    "python": {
     "delete_cmd_postfix": "",
     "delete_cmd_prefix": "del ",
     "library": "var_list.py",
     "varRefreshCmd": "print(var_dic_list())"
    },
    "r": {
     "delete_cmd_postfix": ") ",
     "delete_cmd_prefix": "rm(",
     "library": "var_list.r",
     "varRefreshCmd": "cat(var_dic_list()) "
    }
   },
   "types_to_exclude": [
    "module",
    "function",
    "builtin_function_or_method",
    "instance",
    "_Feature"
   ],
   "window_display": false
  }
 },
 "nbformat": 4,
 "nbformat_minor": 1
}
