{
 "cells": [
  {
   "cell_type": "markdown",
   "metadata": {},
   "source": [
    "## Normal Distribution\n",
    "### Water content\n",
    "---\n",
    "\n",
    "<center><img title=\"a title\" alt=\"Alt text\" src=\"https://gitlab.tudelft.nl/prob-for-mude/examples/-/raw/main/Figures/Water_contet_normal.png\" width=\"300\" height=\"200\" /></center>\n",
    "\n",
    "Characterization of Eagle Ford Shale\n",
    "\n",
    "According to [Characterization of Eagle Ford Shale](https://doi.org/10.1016/S0013-7952(02)00151-5),  the laboratory and field testing results of Eagle Ford Shale at the cancelled Superconducting Super Collider (SSC) project in Texas, USA. The Eagle Ford Shale has an average water content that can be generally considered to be normally distributed with a mean of 16% and a standard deviation of 2%.\n",
    "\n",
    "1. What value of water content is exceeded in 45 tests out of 50?\n",
    "2. What is the probability that a clay sample picked at random has 15% of water content or less?\n",
    "3. What is the probability that a clay sample picked at random has more than 18% of water content?\n",
    "4. What is the probability that the water contents are in the range 15.5% -  17.5% ?\n",
    "\n",
    "\n"
   ]
  },
  {
   "cell_type": "markdown",
   "metadata": {},
   "source": [
    "1. What value of water content is exceeded in 45 tests out of 50?"
   ]
  },
  {
   "cell_type": "code",
   "execution_count": 1,
   "metadata": {},
   "outputs": [
    {
     "name": "stdout",
     "output_type": "stream",
     "text": [
      "13.44\n"
     ]
    }
   ],
   "source": [
    "from scipy.stats import norm            #import normal function\n",
    "p = 45/50\n",
    "mu = 16\n",
    "sigma = 2\n",
    "water_content = norm.ppf(1-p,mu,sigma)  #norm.ppf is th percent point function (inverse of CDF).\n",
    "\n",
    "#display the result rounded to two decimal places\n",
    "print(f'{water_content:.2f}') "
   ]
  },
  {
   "cell_type": "markdown",
   "metadata": {},
   "source": [
    "2. What is the probability that a clay sample picked at random has 15% of water content or less?"
   ]
  },
  {
   "cell_type": "code",
   "execution_count": 5,
   "metadata": {},
   "outputs": [
    {
     "name": "stdout",
     "output_type": "stream",
     "text": [
      "0.309\n"
     ]
    }
   ],
   "source": [
    "from scipy.stats import norm           #import normal function\n",
    "mu = 16\n",
    "sigma = 2\n",
    "water_content = 15\n",
    "probability  =  norm.cdf(water_content,mu,sigma) #norm.cdf is the CDF of the normal distribution\n",
    "\n",
    "#display the result rounded to three decimal places\n",
    "print(f'{water_content:.3f}') "
   ]
  },
  {
   "cell_type": "markdown",
   "metadata": {},
   "source": [
    "3. What is the probability that a clay sample picked at random has more than 18% of water content?"
   ]
  },
  {
   "cell_type": "code",
   "execution_count": 9,
   "metadata": {},
   "outputs": [
    {
     "name": "stdout",
     "output_type": "stream",
     "text": [
      "0.159\n"
     ]
    }
   ],
   "source": [
    "from scipy.stats import norm           #import normal function\n",
    "mu = 16\n",
    "sigma = 2\n",
    "water_content = 18\n",
    "probability  =  1 - norm.cdf(water_content,mu,sigma) #norm.cdf is the CDF of the normal distribution\n",
    "\n",
    "#display the result rounded to three decimal places\n",
    "print(f'{water_content:.3f}') "
   ]
  },
  {
   "cell_type": "markdown",
   "metadata": {},
   "source": [
    "4. What is the probability that the water contents are in the range 15.5% -  17.5% ?"
   ]
  },
  {
   "cell_type": "code",
   "execution_count": 11,
   "metadata": {},
   "outputs": [
    {
     "name": "stdout",
     "output_type": "stream",
     "text": [
      "0.401\n"
     ]
    }
   ],
   "source": [
    "from scipy.stats import norm  #import normal function\n",
    "mu = 16\n",
    "sigma = 2\n",
    "water_content_i = 15.5\n",
    "water_content_j = 17.7\n",
    "probability  =  norm.cdf(water_content_j,mu,sigma) - norm.cdf(water_content_i,mu,sigma)\n",
    "\n",
    "#display the result rounded to three decimal places\n",
    "print(f'{water_content:.3f}') "
   ]
  },
  {
   "cell_type": "code",
   "execution_count": null,
   "metadata": {},
   "outputs": [],
   "source": []
  }
 ],
 "metadata": {
  "interpreter": {
   "hash": "ad2bdc8ecc057115af97d19610ffacc2b4e99fae6737bb82f5d7fb13d2f2c186"
  },
  "kernelspec": {
   "display_name": "Python 3.8.10 ('base')",
   "language": "python",
   "name": "python3"
  },
  "language_info": {
   "codemirror_mode": {
    "name": "ipython",
    "version": 3
   },
   "file_extension": ".py",
   "mimetype": "text/x-python",
   "name": "python",
   "nbconvert_exporter": "python",
   "pygments_lexer": "ipython3",
   "version": "3.8.10"
  },
  "orig_nbformat": 4
 },
 "nbformat": 4,
 "nbformat_minor": 2
}
