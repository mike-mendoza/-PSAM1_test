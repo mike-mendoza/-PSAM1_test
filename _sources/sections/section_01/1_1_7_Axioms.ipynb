{
 "cells": [
  {
   "cell_type": "markdown",
   "metadata": {},
   "source": [
    "# 1.1.7 Axioms\n",
    "\n",
    "Let's talk quickly about axioms\n",
    "\n",
    "As you may remember from a previous course on probability and statistics, there are some basic statements that always hold when talking about probability. They are called axioms! You can easily find out more details with a quick internet search, so let's quickly review a few key points.\n",
    "\n",
    "The first two axioms tell us that probabilities can take values from 0 to 1, with the probability of the whole sample space equal to 1.\n",
    "\n",
    "$ 0 \\leq P(A) \\leq 1$\n",
    "\n",
    "$P(\\Omega) =  1$\n",
    "\n",
    "Based on the previous discussion in this module we can see that if two events are mutually exclusive, the following holds:\n",
    "\n",
    "$P(A \\cup B)  = P(A) + P(B) $\n",
    "\n",
    "This is the third axiom of probability! Remember that two events being mutually exclusive means that the occurrence of one event excludes the other, so they do not have points in common in the Venn diagrams. However, if they do have points in common, we need to subtract that area. Mathematically, that looks like this:\n",
    "\n",
    "$P(A \\cup B)  = P(A) + P(B) - P(A \\cap B)$\n",
    "\n",
    "The axioms of probability may seem simple, but they are incredibly powerful because they support a number of mathematical rules as well as allowing us to represent all sorts of physical phenomenon, which we will see throughout this course and those that follow. One quick example is how we can combine the second and third axioms of probability to prove that if two events are collectively exhaustive their union represents the entire sample space and the probability of the union is therefore 1.0. In our earthquake example, this means that the probability of the earthquake happening or not happening is 1.0."
   ]
  }
 ],
 "metadata": {
  "hide_input": false,
  "kernelspec": {
   "display_name": "Python 3",
   "language": "python",
   "name": "python3"
  },
  "language_info": {
   "codemirror_mode": {
    "name": "ipython",
    "version": 3
   },
   "file_extension": ".py",
   "mimetype": "text/x-python",
   "name": "python",
   "nbconvert_exporter": "python",
   "pygments_lexer": "ipython3",
   "version": "3.8.13"
  },
  "varInspector": {
   "cols": {
    "lenName": 16,
    "lenType": 16,
    "lenVar": 40
   },
   "kernels_config": {
    "python": {
     "delete_cmd_postfix": "",
     "delete_cmd_prefix": "del ",
     "library": "var_list.py",
     "varRefreshCmd": "print(var_dic_list())"
    },
    "r": {
     "delete_cmd_postfix": ") ",
     "delete_cmd_prefix": "rm(",
     "library": "var_list.r",
     "varRefreshCmd": "cat(var_dic_list()) "
    }
   },
   "types_to_exclude": [
    "module",
    "function",
    "builtin_function_or_method",
    "instance",
    "_Feature"
   ],
   "window_display": false
  }
 },
 "nbformat": 4,
 "nbformat_minor": 2
}
