{
 "cells": [
  {
   "cell_type": "markdown",
   "metadata": {},
   "source": [
    "# 1.5 Non Binary events\n",
    "\n",
    "Note that we chose to define the natural disaster as binary, but this is not always useful. Sometimes we are interested in the number of events per year, or perhaps a discrete or continuous representation of the event, for example, earthquake magnitude as a continuous random variable, or severity of droughts as a discrete variable (e.g., the intensity measured as mild, moderate or severe). We will consider these cases in other modules of the course.\n",
    "\n",
    "\n",
    "Let’s explore this more with a new example!\n",
    "\n",
    "---\n",
    "\n",
    "\n",
    "\n",
    "<p><img src=\"https://raw.githubusercontent.com/mike-mendoza/-PSAM1_test/main/images/water_tower.png\n",
    "\" alt=\"\" style=\"display: block; margin-left: auto; margin-right: auto;\" width=\"310\" height=\"330\" /></p>\n",
    "\n",
    "\n",
    "Imagine a water supply system for a town that has two water tower reservoirs, Tower A and Tower B. We want to make sure that there is enough water in the reservoirs to supply the town with fresh water. In a broader sense, we know that these towers are part of a larger water distribution network, so we are really interested in the chance that the towers can provide sufficient water or not, since this information can be used to design and build the rest of the water system in a reliable and resilient way. So, with that in mind, there are several ways we can define the volume of water stored in a reservoir:\n",
    "\n",
    "    a). Either full or empty\n",
    "    b). Partially filled, measured as empty, ¼, ½, ¾, full.\n",
    "    c). Partially filled, measured as a number from 0 to the maximum volume v.\n",
    "\n",
    "\n",
    "Option a would define the volume of water as a) binary variable since only two options would be possible. Option b) would define it as a discrete variable since the volume would be defined in a countable subset of the real numbers. Finally, option c) would model volume as a continuous variable, since it would define the variable in an uncountable subset of the real numbers. \n",
    "\n",
    "We will see more examples of non-binary events later. For now, we will focus on binary and discrete cases (cases a) and b)).\n"
   ]
  }
 ],
 "metadata": {
  "hide_input": false,
  "kernelspec": {
   "display_name": "Python 3",
   "language": "python",
   "name": "python3"
  },
  "language_info": {
   "codemirror_mode": {
    "name": "ipython",
    "version": 3
   },
   "file_extension": ".py",
   "mimetype": "text/x-python",
   "name": "python",
   "nbconvert_exporter": "python",
   "pygments_lexer": "ipython3",
   "version": "3.8.13"
  },
  "varInspector": {
   "cols": {
    "lenName": 16,
    "lenType": 16,
    "lenVar": 40
   },
   "kernels_config": {
    "python": {
     "delete_cmd_postfix": "",
     "delete_cmd_prefix": "del ",
     "library": "var_list.py",
     "varRefreshCmd": "print(var_dic_list())"
    },
    "r": {
     "delete_cmd_postfix": ") ",
     "delete_cmd_prefix": "rm(",
     "library": "var_list.r",
     "varRefreshCmd": "cat(var_dic_list()) "
    }
   },
   "types_to_exclude": [
    "module",
    "function",
    "builtin_function_or_method",
    "instance",
    "_Feature"
   ],
   "window_display": false
  }
 },
 "nbformat": 4,
 "nbformat_minor": 2
}
