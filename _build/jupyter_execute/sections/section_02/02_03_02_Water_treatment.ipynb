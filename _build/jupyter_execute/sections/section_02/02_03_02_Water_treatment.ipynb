{
 "cells": [
  {
   "cell_type": "markdown",
   "metadata": {},
   "source": [
    "# Geometric distribution\n",
    "\n",
    "<p><img src=\"https://raw.githubusercontent.com/mike-mendoza/-PSAM1_test/main/images/geometric_dist.PNG\" alt=\"\" style=\"display: block; margin-left: auto; margin-right: auto;\" width=\"400\" height=\"230\" /></p>\n",
    "\n",
    "\n",
    "Welcome to the Geometric distribution module. At the end of this module, you will be able to identify distribution parameters and evaluate discrete probabilities for events using the Geometric distribution. Manipulate the distribution parameters to evaluate conditions relevant to Civil Engineering and Geosciences (CEG) applications.\n",
    "\n",
    "This module is set up with a 3-unit format:\n",
    "\n",
    "1. The basic theory of a specific concept.\n",
    "2. Example of how a specific concept is applied to a  CEG problem, through step-by-step explanations and short python code blocks.\n",
    "3. Introduction of a new problem, to practice using the method from unit 2.\n",
    "\n",
    "---\n",
    "## 1. Theory\n",
    "\n",
    "The geometric distribution is a discrete probability distribution where the random variable \\( x \\) indicates the number of Bernoulli trials required to get the first success (or failure). It is based on  the following three  assumptions:\n",
    "\n",
    "1. The trials being conducted are independent.\n",
    "2. There can only be two outcomes of each trial - success or failure.\n",
    "3. The success probability, denoted by p, is the same for each trial.\n",
    "\n",
    "The probability mass function of the geometric distribution is given by\n",
    "\n",
    "$p_{X}(x)=P(X=x)= p(1-p)^{x-1} \\quad x=1,2,...$ \n",
    "\n",
    "---\n",
    "\n",
    "\n",
    "## 2. Water treatment plant failure assessment\n",
    "\n",
    "\n",
    "<center><img title=\"a title\" alt=\"Culvert figure\" src=\"https://raw.githubusercontent.com/mike-mendoza/-PSAM1_test/main/images/Flocculator_tank.jpg\" width=\"300\" \n",
    "     height=\"200\" /></center>\n",
    "     \n",
    "\n",
    "Suppose that it is known that the probability that the flocculator of a water treatment plant experiences a power failure in a given week is 15%. The manager of the water treatment plant would like to know:\n",
    "\n",
    "1. The probability that the flocculator will experience the first failure in exactly 4 weeks\n",
    "2. The probability that the flocculator will experience the first failure in 4 weeks or less\n",
    "3. The probability that the flocculator will experience the first failure in 4 weeks or more\n"
   ]
  },
  {
   "cell_type": "markdown",
   "metadata": {},
   "source": [
    "**1. What is the probability that the flocculator will experience the first failure in exactly 4 weeks?**\n",
    "\n",
    "\n",
    "The probability of the flocculator experiencing a power failure in a given week is 15%, which means that $p =  0.15$.\n",
    "\n",
    "\n",
    "We're asked to solve the first failure in exactly 4 weeks. Therefore,  $x = 4$\n",
    "\n",
    "\n",
    "$ P(X=4) = 0.15(1-0.15)^{4-1}=0.092$\n",
    "\n",
    "\n",
    "Hence,  the probability that the flocculator will experience the first failure in exactly 4 weeks is 9.2%\n",
    "\n",
    "\n",
    "To answer this question we can use the following Python script:"
   ]
  },
  {
   "cell_type": "code",
   "execution_count": 1,
   "metadata": {},
   "outputs": [
    {
     "name": "stdout",
     "output_type": "stream",
     "text": [
      "The probability is 0.092\n"
     ]
    }
   ],
   "source": [
    "p = 0.15\n",
    "x = 4\n",
    "probability =  p*(1-p)**(x-1)\n",
    "\n",
    "#display the result rounded to three decimal places\n",
    "print(f'The probability is {probability:.3f}')"
   ]
  },
  {
   "cell_type": "markdown",
   "metadata": {},
   "source": [
    "\n",
    "**2. What is the probability that the flocculator will experience the first failure will occur in 4 weeks or sooner?**\n",
    "\n",
    "\n",
    "We already know that  $p =  0.15$.\n",
    "\n",
    "The probability that the first failure will occur in week 4 or sooner means that we need to solve $ P(X \\leq 4) $. Therefore:\n",
    "\n",
    "$P(X \\leq 4) =\\sum_{x=1}^{4}P(X=x)$\n",
    "\n",
    "\\begin{aligned} P(X \\leq 4) &  = P(X=1)+P(X=2)+P(X=3)+P(X=4) \\\\& =  0.15(1-0.15)^{1-1} + 0.15(1-0.15)^{2-1}  \\\\ & \\quad+ 0.15(1-0.15)^{3-1} + 0.15(1-0.15)^{4-1}  \\\\  &=  0.478  \\end{aligned}\n",
    "\n",
    "Hence,  the probability that the flocculator will experience the first failure will occur in 4 weeks or sooner is 47.8%\n",
    "\n",
    "\n",
    "To answer this question we can use the following Python script:"
   ]
  },
  {
   "cell_type": "code",
   "execution_count": 2,
   "metadata": {},
   "outputs": [
    {
     "name": "stdout",
     "output_type": "stream",
     "text": [
      "The probability is 0.478\n"
     ]
    }
   ],
   "source": [
    "p = 0.15\n",
    "x = [1,2,3,4]\n",
    "probability = sum([p*(1-p)**(week-1) for week in x])\n",
    "\n",
    "#display the result rounded to three decimal places\n",
    "print(f'The probability is {probability:.3f}')"
   ]
  },
  {
   "cell_type": "markdown",
   "metadata": {},
   "source": [
    "3. What is the probability that the flocculator will experience the first failure in 4 weeks or more?\n",
    "\n",
    "\n",
    "We already know that  p =  0.15.\n",
    "\n",
    "Now we need to solve \\( P(X \\geq 4) \\). Therefore:\n",
    "\n",
    "[mathjax] P(X \\geq 4) = 1 -  P(X \\leq 3)  = 1- \\sum_{x=1}^{3}P(X=x)[/mathjax]\n",
    "\n",
    "\\begin{aligned} P(X \\geq 4) &  = 1- \\left [ P(X=1)+P(X=2)+P(X=3)  \\right ] \\\\& =  1- \\left [ 0.15(1-0.15)^{1-1} + 0.15(1-0.15)^{2-1}  0.15(1-0.15)^{3-1} \\right ]  \\\\  &=  0.614  \\end{aligned}\n",
    "\n",
    "Hence,  the probability that the flocculator will experience the first failure in 4 weeks or more is 61.4%\n",
    "\n",
    "\n",
    "To answer this question we can use the following Python script:"
   ]
  },
  {
   "cell_type": "code",
   "execution_count": 3,
   "metadata": {},
   "outputs": [
    {
     "name": "stdout",
     "output_type": "stream",
     "text": [
      "The probability is 0.614\n"
     ]
    }
   ],
   "source": [
    "p = 0.15\n",
    "x = [1,2,3]\n",
    "probability = 1-sum([p*(1-p)**(week-1) for week in x])\n",
    "\n",
    "#display the result rounded to three decimal places\n",
    "print(f'The probability is {probability:.3f}') "
   ]
  }
 ],
 "metadata": {
  "hide_input": false,
  "interpreter": {
   "hash": "ad2bdc8ecc057115af97d19610ffacc2b4e99fae6737bb82f5d7fb13d2f2c186"
  },
  "kernelspec": {
   "display_name": "Python 3",
   "language": "python",
   "name": "python3"
  },
  "language_info": {
   "codemirror_mode": {
    "name": "ipython",
    "version": 3
   },
   "file_extension": ".py",
   "mimetype": "text/x-python",
   "name": "python",
   "nbconvert_exporter": "python",
   "pygments_lexer": "ipython3",
   "version": "3.8.13"
  },
  "varInspector": {
   "cols": {
    "lenName": 16,
    "lenType": 16,
    "lenVar": 40
   },
   "kernels_config": {
    "python": {
     "delete_cmd_postfix": "",
     "delete_cmd_prefix": "del ",
     "library": "var_list.py",
     "varRefreshCmd": "print(var_dic_list())"
    },
    "r": {
     "delete_cmd_postfix": ") ",
     "delete_cmd_prefix": "rm(",
     "library": "var_list.r",
     "varRefreshCmd": "cat(var_dic_list()) "
    }
   },
   "types_to_exclude": [
    "module",
    "function",
    "builtin_function_or_method",
    "instance",
    "_Feature"
   ],
   "window_display": false
  }
 },
 "nbformat": 4,
 "nbformat_minor": 2
}