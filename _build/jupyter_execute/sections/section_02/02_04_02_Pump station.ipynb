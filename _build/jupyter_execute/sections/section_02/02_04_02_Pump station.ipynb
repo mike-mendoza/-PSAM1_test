{
 "cells": [
  {
   "cell_type": "markdown",
   "metadata": {},
   "source": [
    "## Homogeneous Poisson distribution\n",
    "### Reliability of equipment at a pump station\n",
    "---\n",
    "\n",
    "<center><img title=\"a title\" alt=\"Pump figure\" src=\"https://gitlab.tudelft.nl/prob-for-mude/examples/-/raw/main/Figures/Pumps.jpg\" width=\"300\" \n",
    "     height=\"200\" /></center>\n",
    "\n",
    "All the pumps at a pump station have been made to the same specifications by a single manufacturer. From tests made over a 6-week period, it has been ascertained that there are on average two breakdowns during each period. It is assumed that the failures occur randomly in time, the occurrences are independent, and the rate of failure is constant.\n",
    "\n",
    "1. What is the probability that the water treatment plant will have exactly three breakdowns over 6 weeks?\n",
    "2. A station manager assumes that the problem is not serious if there are no more than five breakdowns over 6 weeks. What is the probability of such an occurrence?\n",
    "3. The water treatment plant would close for repairs if there are more than 7 breakdowns. The manager assumes that the probability of that happening is less than 0.10. Is this correct?\n",
    "\n",
    "---\n",
    "The homogeneous Poisson probability mass function (pmf) is given by:\n",
    "\n",
    "$P(X=x)=\\frac{\\nu ^{x}}{x!}\\mathrm{exp}(-\\nu), \\quad \\nu=\\lambda t  \\quad x=0,1,2,...$\n"
   ]
  },
  {
   "cell_type": "markdown",
   "metadata": {},
   "source": [
    "1. What is the probability that the water treatment plant will have exactly three breakdowns over 6 weeks?"
   ]
  },
  {
   "cell_type": "code",
   "execution_count": 1,
   "metadata": {},
   "outputs": [
    {
     "name": "stdout",
     "output_type": "stream",
     "text": [
      "The probability is 0.224\n"
     ]
    }
   ],
   "source": [
    "import numpy as np  #import numpy library to use factorial and exponential functions\n",
    "nu = 3\n",
    "x = 2\n",
    "probability = nu**x/np.math.factorial(x)*np.exp(-nu)\n",
    "\n",
    "#display the result rounded to three decimal places\n",
    "print(f'The probability is {probability:.3f}') "
   ]
  },
  {
   "cell_type": "markdown",
   "metadata": {},
   "source": [
    "2. A station manager assumes that the problem is not serious if there are no more than five breakdowns over 6 weeks. What is the probability of such an occurrence?"
   ]
  },
  {
   "cell_type": "code",
   "execution_count": 2,
   "metadata": {},
   "outputs": [
    {
     "name": "stdout",
     "output_type": "stream",
     "text": [
      "The probability is 0.916\n"
     ]
    }
   ],
   "source": [
    "import numpy as np #import numpy library to use factorial and exponential functions\n",
    "nu  = 3\n",
    "x = [0,1,2,3,4,5]\n",
    "probability = sum([nu**breakdown /np.math.factorial(breakdown)*np.exp(-nu) \n",
    "                   for breakdown in x])\n",
    "\n",
    "#display the result rounded to three decimal places\n",
    "print(f'The probability is {probability:.3f}')                "
   ]
  },
  {
   "cell_type": "markdown",
   "metadata": {},
   "source": [
    "3. The water treatment plant would close for repairs if there are more than 7 breakdowns. The manager assumes that the probability of that happening is less than 0.10. Is this correct?"
   ]
  },
  {
   "cell_type": "code",
   "execution_count": 3,
   "metadata": {},
   "outputs": [
    {
     "name": "stdout",
     "output_type": "stream",
     "text": [
      "The probability is 0.012\n"
     ]
    }
   ],
   "source": [
    "import numpy as np #import numpy library to use factorial and exponential functions\n",
    "nu  = 3\n",
    "x = [0,1,2,3,4,5,6,7]\n",
    "probability = 1 - sum([nu**breakdown /np.math.factorial(breakdown)*np.exp(-nu) \n",
    "                       for breakdown in x])\n",
    "\n",
    "#display the result rounded to three decimal places\n",
    "print(f'The probability is {probability:.3f}')                       "
   ]
  }
 ],
 "metadata": {
  "interpreter": {
   "hash": "ad2bdc8ecc057115af97d19610ffacc2b4e99fae6737bb82f5d7fb13d2f2c186"
  },
  "kernelspec": {
   "display_name": "Python 3.8.10 ('base')",
   "language": "python",
   "name": "python3"
  },
  "language_info": {
   "codemirror_mode": {
    "name": "ipython",
    "version": 3
   },
   "file_extension": ".py",
   "mimetype": "text/x-python",
   "name": "python",
   "nbconvert_exporter": "python",
   "pygments_lexer": "ipython3",
   "version": "3.8.13"
  }
 },
 "nbformat": 4,
 "nbformat_minor": 2
}