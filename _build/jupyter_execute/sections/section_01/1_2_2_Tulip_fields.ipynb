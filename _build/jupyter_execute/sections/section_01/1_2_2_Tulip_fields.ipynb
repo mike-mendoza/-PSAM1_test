{
 "cells": [
  {
   "cell_type": "markdown",
   "metadata": {},
   "source": [
    "# 1.2.2 Tulip fields\n",
    "\n",
    "\n",
    "<p><img src=\"https://raw.githubusercontent.com/mike-mendoza/-PSAM1_test/main/images/tulip_field.jpg\n",
    "\" alt=\"\" style=\"display: block; margin-left: auto; margin-right: auto;\" width=\"210\" height=\"130\" /></p>\n",
    "\n",
    "Tulip fields are one of the major touristic attractions in an area in South Holland, as well as an important source of income. Thus, the Public Authority in the area wants to know how vulnerable those fields are. Would you help them calculate the probability of the tulips being damaged in a given year, $ P(A)$? Fortunately, you have already been provided historic data from which you can derive probabilities of bad events happening, $P(B_i)$, as well as the probability that such an event leads to damage, $P(A|B_i)$, which are summarized below.  \n",
    "\n",
    "First, there may be a regional drought with a probability $ P(B_1)=0.05$ or a pipe in the supply system may break with a probability $P(B_2)=0.10$. There is a chance of $P(A|B_1)=0.65$ and $P(A|B_2)=0.55$ that tulips won’t grow if the regional drought or the pipe breakage happens, respectively. \n",
    "\n",
    "There may also be a human error in the operation of the water supply system, $P(B_3)=0.03$, which may make tulips be too dry or too wet and results in rotten tulips with a probability $P(A|B_3)=0.90$.\n",
    "\n",
    "Another possibility is that the stored water to ensure the supply may get polluted, $P(B_4)=0.05$, leading to a lack of water for the tulips with chance $P(A|B_4)=0.70$.\n",
    "\n",
    "Also, catastrophes can happen! There may be a plague or a fire that occurs with probabilities $P(B_5)=0.03$ and $P(B_6)=0.05$, respectively. Those can lead to damage in the tulips field with probabilities $P(A|B_5)=0.80$ and $P(A|B_6)=0.90$.\n",
    "\n",
    "Find a summary below.\n",
    "\n",
    "\n",
    "<p><img src=\"https://raw.githubusercontent.com/mike-mendoza/-PSAM1_test/main/images/Tulip_T1.png\n",
    "\" alt=\"\" style=\"display: block; margin-left: auto; margin-right: auto;\" width=\"300\" height=\"170\" /></p>\n",
    "\n",
    "---\n",
    "\n",
    "**1. Assuming that the described events are independent, mutually exclusive, and collectively exhaustive, apply the Total Probability Theorem to calculate the probability of tulips being damaged one year, P(A).**\n",
    "\n",
    "You can write out the total probability rule by hand, but often it is useful to keep track of all the individual events in a table:\n",
    "\n",
    "<p><img src=\"https://raw.githubusercontent.com/mike-mendoza/-PSAM1_test/main/images/Tulip_T2.png\n",
    "\" alt=\"\" style=\"display: block; margin-left: auto; margin-right: auto;\" width=\"330\" height=\"170\" /></p>\n",
    "\n",
    "Therefore the probability of tulips being damaged one year is **0.219**\n",
    "\n",
    "---\n",
    "\n",
    "**2. Considering the values in the table bellow, which of the following actions should the Public Authority take first?**\n",
    "\n",
    "    a). Improve the maintenance of the pipes in the supply system\n",
    "    b). Further automate the operation to prevent human errors\n",
    "    c). Improve safety protocols to prevent fire \n",
    "    \n",
    "<p><img src=\"https://raw.githubusercontent.com/mike-mendoza/-PSAM1_test/main/images/Tulip_T3.png\n",
    "\" alt=\"\" style=\"display: block; margin-left: auto; margin-right: auto;\" width=\"350\" height=\"130\" /></p>\n",
    "\n",
    "By looking at the values in the table we can say that the answer is \"a) Improve the maintenance of the pipes in the supply system.\"\n",
    "\n",
    "This is because the cause which contributes the most to the damages in the fields is the pipe breakage in the supply system. Thus, **improving their maintenance** may be one way to reduce $P(B_2)$. We could also try to reduce the value of  $P(A|B_2)$. Since this value is conditional on broken pipes, it obviously is a function of what happens at the tulip farm after the pipe breaks, for example, a leaky pipe detection system, or a backup water delivery system. If we can address those parts of the entire tulip growing system we can effectively reduce the overall probability of tulip damage."
   ]
  },
  {
   "cell_type": "code",
   "execution_count": null,
   "metadata": {},
   "outputs": [],
   "source": []
  }
 ],
 "metadata": {
  "hide_input": false,
  "kernelspec": {
   "display_name": "Python 3",
   "language": "python",
   "name": "python3"
  },
  "language_info": {
   "codemirror_mode": {
    "name": "ipython",
    "version": 3
   },
   "file_extension": ".py",
   "mimetype": "text/x-python",
   "name": "python",
   "nbconvert_exporter": "python",
   "pygments_lexer": "ipython3",
   "version": "3.8.13"
  },
  "varInspector": {
   "cols": {
    "lenName": 16,
    "lenType": 16,
    "lenVar": 40
   },
   "kernels_config": {
    "python": {
     "delete_cmd_postfix": "",
     "delete_cmd_prefix": "del ",
     "library": "var_list.py",
     "varRefreshCmd": "print(var_dic_list())"
    },
    "r": {
     "delete_cmd_postfix": ") ",
     "delete_cmd_prefix": "rm(",
     "library": "var_list.r",
     "varRefreshCmd": "cat(var_dic_list()) "
    }
   },
   "types_to_exclude": [
    "module",
    "function",
    "builtin_function_or_method",
    "instance",
    "_Feature"
   ],
   "window_display": false
  }
 },
 "nbformat": 4,
 "nbformat_minor": 2
}