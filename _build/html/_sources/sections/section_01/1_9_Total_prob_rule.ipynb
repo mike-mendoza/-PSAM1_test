{
 "cells": [
  {
   "cell_type": "markdown",
   "metadata": {},
   "source": [
    "## Total Probability Rule\n",
    "### Tulip fields\n",
    "---\n",
    "\n",
    "The fields of tulips located in a coastal area receive water from both ground water (an aquifer) and surface water (a river with a storage device). The operation of this supply system is influenced by the regional droughts which occur randomly with an annual frequency of 15%. There is a 60% chance that extremely low flows will occur in the river during a regional drought. During a year with extremely low flows due to a regional drought, there is a 40% chance to have a failure in the system due to the lack of water in either of the sources. Also, there is a 20% chance that the aquifer is polluted due to brackish water in a year with extremely low flows and there is a 10% chance to have a failure in the system during a dry year when low flows do not occur due to the lack of stored water. \n",
    "\n",
    "The goal is to determine the probability of having a failure in the water supply of the fields of tulips, P(failure).\n",
    "\n",
    "---\n"
   ]
  },
  {
   "cell_type": "markdown",
   "metadata": {},
   "source": [
    "1. What is the probability of having a drought and low flows?"
   ]
  },
  {
   "cell_type": "code",
   "execution_count": 4,
   "metadata": {},
   "outputs": [
    {
     "name": "stdout",
     "output_type": "stream",
     "text": [
      "The probability is 0.090\n"
     ]
    }
   ],
   "source": [
    "p_drought = 0.15 #Probability of having a drought\n",
    "p_low_given_drought = 0.60 #Probability of having low flows during a regional drought\n",
    "p_shortage_surface_given_low_AND_drought = 0.4 #Probability of having a shortage during a dry year with low flows caused by any of the two sources.\n",
    "p_failure_given_shortage_surfaceC_AND_low_AND_drought = 0.2 #Probability of having a shortage during a dry year with low flows which do not cause directly a shortage.\n",
    "\n",
    "p_low_AND_drought = p_low_drought * p_drought\n",
    "\n",
    "print(f'The probability is {p_low_AND_drought:.3f}')"
   ]
  },
  {
   "cell_type": "markdown",
   "metadata": {},
   "source": [
    "2. What is the probability of having a drought but not having low flows?"
   ]
  },
  {
   "cell_type": "code",
   "execution_count": 5,
   "metadata": {},
   "outputs": [
    {
     "name": "stdout",
     "output_type": "stream",
     "text": [
      "The probability is 0.060\n"
     ]
    }
   ],
   "source": [
    "p_drought = 0.15 #Probability of having a drought\n",
    "p_low_given_drought = 0.60 #Probability of having low flows during a regional drought\n",
    "p_shortage_surface_given_low_AND_drought = 0.4 #Probability of having a shortage during a dry year with low flows caused by any of the two sources.\n",
    "p_failure_given_shortage_surfaceC_AND_low_AND_drought = 0.2 #Probability of having a shortage during a dry year with low flows which do not cause directly a shortage.\n",
    "\n",
    "\n",
    "p_lowC_AND_drought = (1-p_low_given_drought) * p_drought\n",
    "\n",
    "print(f'The probability is {p_lowC_AND_drought:.3f}')"
   ]
  },
  {
   "cell_type": "markdown",
   "metadata": {},
   "source": [
    "3. We can assume that low flows in the river occur only when there is a drought, so $P(\\mathrm{drought}^c \\cap \\mathrm{low}) = 0 $ and $P(\\mathrm{low}^c|\\mathrm{drought}^c) = 1 $. Then, which is the probability of not having low flows in a year and not having a regional drought?"
   ]
  },
  {
   "cell_type": "code",
   "execution_count": 6,
   "metadata": {},
   "outputs": [
    {
     "name": "stdout",
     "output_type": "stream",
     "text": [
      "The probability is 0.850\n"
     ]
    }
   ],
   "source": [
    "p_drought = 0.15 #Probability of having a drought\n",
    "\n",
    "p_lowC_AND_droughtC = 1*(1-p_drought)\n",
    "\n",
    "print(f'The probability is {p_lowC_AND_droughtC:.3f}')"
   ]
  },
  {
   "cell_type": "code",
   "execution_count": null,
   "metadata": {},
   "outputs": [],
   "source": []
  }
 ],
 "metadata": {
  "kernelspec": {
   "display_name": "Python 3.8.10 ('base')",
   "language": "python",
   "name": "python3"
  },
  "language_info": {
   "codemirror_mode": {
    "name": "ipython",
    "version": 3
   },
   "file_extension": ".py",
   "mimetype": "text/x-python",
   "name": "python",
   "nbconvert_exporter": "python",
   "pygments_lexer": "ipython3",
   "version": "3.8.10"
  },
  "orig_nbformat": 4,
  "vscode": {
   "interpreter": {
    "hash": "ad2bdc8ecc057115af97d19610ffacc2b4e99fae6737bb82f5d7fb13d2f2c186"
   }
  }
 },
 "nbformat": 4,
 "nbformat_minor": 2
}
