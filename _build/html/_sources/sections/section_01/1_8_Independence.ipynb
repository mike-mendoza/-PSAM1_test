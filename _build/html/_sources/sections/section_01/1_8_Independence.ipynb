{
 "cells": [
  {
   "cell_type": "markdown",
   "metadata": {},
   "source": [
    "# 1.8 Independence\n",
    "\n",
    "Do you remember our example of the two reservoir towers? Tower A and Tower B were built to ensure the water supply system has sufficient capacity. We defined the event that Tower A is full (event $A$) or empty ($\\bar{A}$), and similarly for Tower B (full, $B$ and empty, $\\bar{B}$).\n",
    "\n",
    "\n",
    "<p><img src=\"https://raw.githubusercontent.com/mike-mendoza/-PSAM1_test/main/images/Sample_sapce_omega_int_uninon.png\n",
    "\" alt=\"\" style=\"display: block; margin-left: auto; margin-right: auto;\" width=\"310\" height=\"330\" /></p>\n",
    "\n",
    "\n",
    "We want to make sure that there is enough water to meet the water demand in the town. That is why we installed two reservoirs, although most of the time if there is an average amount of rainfall, the system will have enough water with only one tower. It seems reasonable to assume that building two towers is good enough, right?\n",
    "\n",
    "What we have not considered previously is the relationship between events $A$ and $B$. During a drought, it is more likely that both reservoirs are empty, whereas during a rainy year it is more likely that both reservoirs are full. In other words, a dependency exists between $A$ and $B$, since there are common drivers which influence whether or not the reservoirs are full or empty.\n",
    "\n",
    "This is extremely important when assessing our system. If we do not consider this dependence, we may think that we are building a redundant system. However, since the amount of water in one tower is closely related to the other, we are not being effective and the system capacity may be on the unsafe side!\n",
    "In terms of probability, we see that if Tower A is empty, the probability that Tower B is empty is higher than what we might think if we didn't know about the condition of Tower A. The converse is also true. You will soon see that we can actually calculate this change in probability using our Venn diagrams and with the mathematics of probability, but first, we need a definition of independence.\n",
    "\n",
    "> Two events are (stochastically or statistically) **independent** when the probability of occurrence of one of the events is not affected by the occurrence of another event. Conversely, if the probability of one event takes on a different value given the outcome of another event, they are dependent.\n",
    "\n",
    "\n"
   ]
  }
 ],
 "metadata": {
  "hide_input": false,
  "kernelspec": {
   "display_name": "Python 3",
   "language": "python",
   "name": "python3"
  },
  "language_info": {
   "codemirror_mode": {
    "name": "ipython",
    "version": 3
   },
   "file_extension": ".py",
   "mimetype": "text/x-python",
   "name": "python",
   "nbconvert_exporter": "python",
   "pygments_lexer": "ipython3",
   "version": "3.8.13"
  },
  "varInspector": {
   "cols": {
    "lenName": 16,
    "lenType": 16,
    "lenVar": 40
   },
   "kernels_config": {
    "python": {
     "delete_cmd_postfix": "",
     "delete_cmd_prefix": "del ",
     "library": "var_list.py",
     "varRefreshCmd": "print(var_dic_list())"
    },
    "r": {
     "delete_cmd_postfix": ") ",
     "delete_cmd_prefix": "rm(",
     "library": "var_list.r",
     "varRefreshCmd": "cat(var_dic_list()) "
    }
   },
   "types_to_exclude": [
    "module",
    "function",
    "builtin_function_or_method",
    "instance",
    "_Feature"
   ],
   "window_display": false
  }
 },
 "nbformat": 4,
 "nbformat_minor": 2
}
